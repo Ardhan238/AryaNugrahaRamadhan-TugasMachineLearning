{
  "cells": [
    {
      "cell_type": "markdown",
      "metadata": {
        "id": "view-in-github",
        "colab_type": "text"
      },
      "source": [
        "<a href=\"https://colab.research.google.com/github/Ardhan238/AryaNugrahaRamadhan-TugasMachineLearning/blob/main/Naive_Bayes_202131168_Fathur_Aulia_Rezky_UTS_ML_B.ipynb\" target=\"_parent\"><img src=\"https://colab.research.google.com/assets/colab-badge.svg\" alt=\"Open In Colab\"/></a>"
      ]
    },
    {
      "cell_type": "markdown",
      "id": "d62b52c6",
      "metadata": {
        "id": "d62b52c6"
      },
      "source": [
        "## Import Library"
      ]
    },
    {
      "cell_type": "code",
      "source": [
        "from google.colab import drive\n",
        "drive.mount('/content/drive')"
      ],
      "metadata": {
        "colab": {
          "base_uri": "https://localhost:8080/"
        },
        "id": "ujCRhriGosPY",
        "outputId": "e8806737-d27b-40d9-a3db-4113bc6e4c18"
      },
      "id": "ujCRhriGosPY",
      "execution_count": 1,
      "outputs": [
        {
          "output_type": "stream",
          "name": "stdout",
          "text": [
            "Mounted at /content/drive\n"
          ]
        }
      ]
    },
    {
      "cell_type": "code",
      "execution_count": 2,
      "id": "b86bab9e",
      "metadata": {
        "id": "b86bab9e"
      },
      "outputs": [],
      "source": [
        "import pandas as pd\n",
        "from sklearn.naive_bayes import GaussianNB\n",
        "from sklearn.model_selection import train_test_split\n",
        "from sklearn.preprocessing import LabelEncoder"
      ]
    },
    {
      "cell_type": "markdown",
      "id": "65e2523b",
      "metadata": {
        "id": "65e2523b"
      },
      "source": [
        "Baris pertama merupakan import library yang digunakan dalam program ini. Library yang digunakan adalah pandas untuk membaca dataset, GaussianNB dari sklearn untuk membuat model Naive Bayes, train_test_split dari sklearn untuk membagi dataset menjadi data latih dan data uji, dan LabelEncoder dari sklearn untuk mengubah nilai-nilai kategorikal menjadi numerik."
      ]
    },
    {
      "cell_type": "markdown",
      "id": "15c62991",
      "metadata": {
        "id": "15c62991"
      },
      "source": [
        "## Load dataset"
      ]
    },
    {
      "cell_type": "code",
      "execution_count": 4,
      "id": "98b1f850",
      "metadata": {
        "id": "98b1f850"
      },
      "outputs": [],
      "source": [
        "df = pd.read_csv('/content/drive/MyDrive/AI/K04_bank_customers.csv', delimiter=';')"
      ]
    },
    {
      "cell_type": "markdown",
      "id": "89bb7c83",
      "metadata": {
        "id": "89bb7c83"
      },
      "source": [
        "Baris kedua digunakan untuk membaca dataset K04_bank_customers.csv menggunakan pandas. Dataset ini memiliki delimiter (;) sebagai pemisah antar kolom."
      ]
    },
    {
      "cell_type": "markdown",
      "id": "2307906e",
      "metadata": {
        "id": "2307906e"
      },
      "source": [
        "\n",
        "## Memproses data"
      ]
    },
    {
      "cell_type": "code",
      "execution_count": 5,
      "id": "47f104d2",
      "metadata": {
        "id": "47f104d2"
      },
      "outputs": [],
      "source": [
        "df = df.drop(['day', 'month', 'duration', 'campaign', 'pdays', 'previous', 'poutcome'], axis=1)"
      ]
    },
    {
      "cell_type": "markdown",
      "id": "c83c4f77",
      "metadata": {
        "id": "c83c4f77"
      },
      "source": [
        "Baris ketiga digunakan untuk menghapus kolom yang tidak diperlukan pada dataset. Kolom yang dihapus adalah \"day\", \"month\", \"duration\", \"campaign\", \"pdays\", \"previous\", dan \"poutcome\"."
      ]
    },
    {
      "cell_type": "markdown",
      "id": "7d22fe84",
      "metadata": {
        "id": "7d22fe84"
      },
      "source": [
        "## Mengubah kategorikal menjadi numerik"
      ]
    },
    {
      "cell_type": "code",
      "execution_count": 6,
      "id": "785c35cb",
      "metadata": {
        "id": "785c35cb"
      },
      "outputs": [],
      "source": [
        "le = LabelEncoder()\n",
        "df['job'] = le.fit_transform(df['job'])\n",
        "df['marital'] = le.fit_transform(df['marital'])\n",
        "df['education'] = le.fit_transform(df['education'])\n",
        "df['default'] = le.fit_transform(df['default'])\n",
        "df['housing'] = le.fit_transform(df['housing'])\n",
        "df['loan'] = le.fit_transform(df['loan'])\n",
        "df['contact'] = le.fit_transform(df['contact'])\n",
        "df['y'] = le.fit_transform(df['y'])\n"
      ]
    },
    {
      "cell_type": "markdown",
      "id": "5d17f95d",
      "metadata": {
        "id": "5d17f95d"
      },
      "source": [
        "Baris keempat digunakan untuk mengubah nilai-nilai kategorikal pada dataset menjadi numerik menggunakan LabelEncoder dari sklearn. Setiap kolom yang memiliki nilai kategorikal diubah menjadi numerik."
      ]
    },
    {
      "cell_type": "markdown",
      "id": "ed8b1180",
      "metadata": {
        "id": "ed8b1180"
      },
      "source": [
        "## Pisahkan kumpulan data menjadi pengujian train dan test"
      ]
    },
    {
      "cell_type": "code",
      "execution_count": 7,
      "id": "43e1ed17",
      "metadata": {
        "id": "43e1ed17"
      },
      "outputs": [],
      "source": [
        "X = df.drop('y', axis=1)\n",
        "y = df['y']\n",
        "X_train, X_test, y_train, y_test = train_test_split(X, y, test_size=0.2, random_state=42)"
      ]
    },
    {
      "cell_type": "markdown",
      "id": "50262358",
      "metadata": {
        "id": "50262358"
      },
      "source": [
        "Baris kelima digunakan untuk memisahkan dataset menjadi data latih dan data uji. Kolom \"y\" dihapus dari data latih dan disimpan pada variabel y. Data latih dan data uji dibagi dengan perbandingan 80:20 menggunakan train_test_split dari sklearn."
      ]
    },
    {
      "cell_type": "markdown",
      "id": "77a27bef",
      "metadata": {
        "id": "77a27bef"
      },
      "source": [
        "## Latih model Naive Bayes"
      ]
    },
    {
      "cell_type": "code",
      "execution_count": 8,
      "id": "40a90fd7",
      "metadata": {
        "colab": {
          "base_uri": "https://localhost:8080/",
          "height": 75
        },
        "id": "40a90fd7",
        "outputId": "4d811ed9-2d24-4f3b-8f9a-b2f523a90355"
      },
      "outputs": [
        {
          "output_type": "execute_result",
          "data": {
            "text/plain": [
              "GaussianNB()"
            ],
            "text/html": [
              "<style>#sk-container-id-1 {color: black;background-color: white;}#sk-container-id-1 pre{padding: 0;}#sk-container-id-1 div.sk-toggleable {background-color: white;}#sk-container-id-1 label.sk-toggleable__label {cursor: pointer;display: block;width: 100%;margin-bottom: 0;padding: 0.3em;box-sizing: border-box;text-align: center;}#sk-container-id-1 label.sk-toggleable__label-arrow:before {content: \"▸\";float: left;margin-right: 0.25em;color: #696969;}#sk-container-id-1 label.sk-toggleable__label-arrow:hover:before {color: black;}#sk-container-id-1 div.sk-estimator:hover label.sk-toggleable__label-arrow:before {color: black;}#sk-container-id-1 div.sk-toggleable__content {max-height: 0;max-width: 0;overflow: hidden;text-align: left;background-color: #f0f8ff;}#sk-container-id-1 div.sk-toggleable__content pre {margin: 0.2em;color: black;border-radius: 0.25em;background-color: #f0f8ff;}#sk-container-id-1 input.sk-toggleable__control:checked~div.sk-toggleable__content {max-height: 200px;max-width: 100%;overflow: auto;}#sk-container-id-1 input.sk-toggleable__control:checked~label.sk-toggleable__label-arrow:before {content: \"▾\";}#sk-container-id-1 div.sk-estimator input.sk-toggleable__control:checked~label.sk-toggleable__label {background-color: #d4ebff;}#sk-container-id-1 div.sk-label input.sk-toggleable__control:checked~label.sk-toggleable__label {background-color: #d4ebff;}#sk-container-id-1 input.sk-hidden--visually {border: 0;clip: rect(1px 1px 1px 1px);clip: rect(1px, 1px, 1px, 1px);height: 1px;margin: -1px;overflow: hidden;padding: 0;position: absolute;width: 1px;}#sk-container-id-1 div.sk-estimator {font-family: monospace;background-color: #f0f8ff;border: 1px dotted black;border-radius: 0.25em;box-sizing: border-box;margin-bottom: 0.5em;}#sk-container-id-1 div.sk-estimator:hover {background-color: #d4ebff;}#sk-container-id-1 div.sk-parallel-item::after {content: \"\";width: 100%;border-bottom: 1px solid gray;flex-grow: 1;}#sk-container-id-1 div.sk-label:hover label.sk-toggleable__label {background-color: #d4ebff;}#sk-container-id-1 div.sk-serial::before {content: \"\";position: absolute;border-left: 1px solid gray;box-sizing: border-box;top: 0;bottom: 0;left: 50%;z-index: 0;}#sk-container-id-1 div.sk-serial {display: flex;flex-direction: column;align-items: center;background-color: white;padding-right: 0.2em;padding-left: 0.2em;position: relative;}#sk-container-id-1 div.sk-item {position: relative;z-index: 1;}#sk-container-id-1 div.sk-parallel {display: flex;align-items: stretch;justify-content: center;background-color: white;position: relative;}#sk-container-id-1 div.sk-item::before, #sk-container-id-1 div.sk-parallel-item::before {content: \"\";position: absolute;border-left: 1px solid gray;box-sizing: border-box;top: 0;bottom: 0;left: 50%;z-index: -1;}#sk-container-id-1 div.sk-parallel-item {display: flex;flex-direction: column;z-index: 1;position: relative;background-color: white;}#sk-container-id-1 div.sk-parallel-item:first-child::after {align-self: flex-end;width: 50%;}#sk-container-id-1 div.sk-parallel-item:last-child::after {align-self: flex-start;width: 50%;}#sk-container-id-1 div.sk-parallel-item:only-child::after {width: 0;}#sk-container-id-1 div.sk-dashed-wrapped {border: 1px dashed gray;margin: 0 0.4em 0.5em 0.4em;box-sizing: border-box;padding-bottom: 0.4em;background-color: white;}#sk-container-id-1 div.sk-label label {font-family: monospace;font-weight: bold;display: inline-block;line-height: 1.2em;}#sk-container-id-1 div.sk-label-container {text-align: center;}#sk-container-id-1 div.sk-container {/* jupyter's `normalize.less` sets `[hidden] { display: none; }` but bootstrap.min.css set `[hidden] { display: none !important; }` so we also need the `!important` here to be able to override the default hidden behavior on the sphinx rendered scikit-learn.org. See: https://github.com/scikit-learn/scikit-learn/issues/21755 */display: inline-block !important;position: relative;}#sk-container-id-1 div.sk-text-repr-fallback {display: none;}</style><div id=\"sk-container-id-1\" class=\"sk-top-container\"><div class=\"sk-text-repr-fallback\"><pre>GaussianNB()</pre><b>In a Jupyter environment, please rerun this cell to show the HTML representation or trust the notebook. <br />On GitHub, the HTML representation is unable to render, please try loading this page with nbviewer.org.</b></div><div class=\"sk-container\" hidden><div class=\"sk-item\"><div class=\"sk-estimator sk-toggleable\"><input class=\"sk-toggleable__control sk-hidden--visually\" id=\"sk-estimator-id-1\" type=\"checkbox\" checked><label for=\"sk-estimator-id-1\" class=\"sk-toggleable__label sk-toggleable__label-arrow\">GaussianNB</label><div class=\"sk-toggleable__content\"><pre>GaussianNB()</pre></div></div></div></div></div>"
            ]
          },
          "metadata": {},
          "execution_count": 8
        }
      ],
      "source": [
        "nb = GaussianNB()\n",
        "nb.fit(X_train, y_train)"
      ]
    },
    {
      "cell_type": "markdown",
      "id": "39c9f9b2",
      "metadata": {
        "id": "39c9f9b2"
      },
      "source": [
        "Baris keenam digunakan untuk membuat model Naive Bayes menggunakan GaussianNB dari sklearn dan melatih model tersebut menggunakan data latih."
      ]
    },
    {
      "cell_type": "markdown",
      "id": "05cdd7e8",
      "metadata": {
        "id": "05cdd7e8"
      },
      "source": [
        "## Memprediksi data dan menghitung akurasi"
      ]
    },
    {
      "cell_type": "code",
      "execution_count": 9,
      "id": "f0d873f2",
      "metadata": {
        "colab": {
          "base_uri": "https://localhost:8080/"
        },
        "id": "f0d873f2",
        "outputId": "ef81992a-ee4d-47b1-fdd9-00b4dc75a8d8"
      },
      "outputs": [
        {
          "output_type": "stream",
          "name": "stdout",
          "text": [
            "Accuracy: 0.8602233771978326\n"
          ]
        }
      ],
      "source": [
        "y_pred = nb.predict(X_test)\n",
        "accuracy = (y_pred == y_test).sum() / len(y_test)\n",
        "print('Accuracy:', accuracy)"
      ]
    },
    {
      "cell_type": "markdown",
      "id": "52a7f095",
      "metadata": {
        "id": "52a7f095"
      },
      "source": [
        "Baris dan baris terakhir digunakan untuk melakukan prediksi pada data uji menggunakan model Naive Bayes yang telah dilatih. Akurasi hasil olahan data dihitung dengan membandingkan prediksi yang dihasilkan oleh model dengan nilai sebenarnya pada data uji. Hasil akurasi akan ditampilkan pada output program."
      ]
    }
  ],
  "metadata": {
    "kernelspec": {
      "display_name": "Python 3 (ipykernel)",
      "language": "python",
      "name": "python3"
    },
    "language_info": {
      "codemirror_mode": {
        "name": "ipython",
        "version": 3
      },
      "file_extension": ".py",
      "mimetype": "text/x-python",
      "name": "python",
      "nbconvert_exporter": "python",
      "pygments_lexer": "ipython3",
      "version": "3.9.13"
    },
    "colab": {
      "provenance": [],
      "include_colab_link": true
    }
  },
  "nbformat": 4,
  "nbformat_minor": 5
}